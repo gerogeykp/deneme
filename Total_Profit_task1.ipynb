{
  "nbformat": 4,
  "nbformat_minor": 0,
  "metadata": {
    "colab": {
      "name": "Total Profit_task1.ipynb",
      "provenance": [],
      "authorship_tag": "ABX9TyP3SF5McY+gMcX3sbMOTAZi",
      "include_colab_link": true
    },
    "kernelspec": {
      "name": "python3",
      "display_name": "Python 3"
    },
    "language_info": {
      "name": "python"
    }
  },
  "cells": [
    {
      "cell_type": "markdown",
      "metadata": {
        "id": "view-in-github",
        "colab_type": "text"
      },
      "source": [
        "<a href=\"https://colab.research.google.com/github/gerogeykp/deneme/blob/main/Total_Profit_task1.ipynb\" target=\"_parent\"><img src=\"https://colab.research.google.com/assets/colab-badge.svg\" alt=\"Open In Colab\"/></a>"
      ]
    },
    {
      "cell_type": "code",
      "metadata": {
        "colab": {
          "base_uri": "https://localhost:8080/"
        },
        "id": "349w2O0z6ia1",
        "outputId": "9371a178-3392-4065-f8ae-3efce94e234f"
      },
      "source": [
        "sales = {\n",
        "  \"cost_value\": 31.87,\n",
        "  \"sell_value\": 45.00,\n",
        "  \"inventory\": 1000\n",
        "        }  \n",
        "        \n",
        "\n",
        "profit = sales[\"sell_value\"] - sales[\"cost_value\"] # profit for one product\n",
        "total_profit = round(sales[\"inventory\"] * profit)\n",
        "print(\"The profit will be : {}\" .format(total_profit))\n",
        "\n"
      ],
      "execution_count": 13,
      "outputs": [
        {
          "output_type": "stream",
          "text": [
            "The profit will be : 13130\n"
          ],
          "name": "stdout"
        }
      ]
    }
  ]
}