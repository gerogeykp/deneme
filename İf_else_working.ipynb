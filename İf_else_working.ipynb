{
  "nbformat": 4,
  "nbformat_minor": 0,
  "metadata": {
    "colab": {
      "name": "İf_else_working.ipynb",
      "provenance": [],
      "collapsed_sections": [],
      "authorship_tag": "ABX9TyP8WbCupjyInTp0X69LZITk",
      "include_colab_link": true
    },
    "kernelspec": {
      "name": "python3",
      "display_name": "Python 3"
    },
    "language_info": {
      "name": "python"
    }
  },
  "cells": [
    {
      "cell_type": "markdown",
      "metadata": {
        "id": "view-in-github",
        "colab_type": "text"
      },
      "source": [
        "<a href=\"https://colab.research.google.com/github/gerogeykp/deneme/blob/main/%C4%B0f_else_working.ipynb\" target=\"_parent\"><img src=\"https://colab.research.google.com/assets/colab-badge.svg\" alt=\"Open In Colab\"/></a>"
      ]
    },
    {
      "cell_type": "code",
      "metadata": {
        "colab": {
          "base_uri": "https://localhost:8080/"
        },
        "id": "umKPcxUMFTV9",
        "outputId": "c4235857-61d7-44ee-8503-d25ffec1c434"
      },
      "source": [
        "sayı = int(input(\"Please enter number : \"))\n",
        "if sayı%2==0 :\n",
        "    print(\"Your number is even\")\n",
        "else :\n",
        "    print(\"Your number is odd\")    "
      ],
      "execution_count": 45,
      "outputs": [
        {
          "output_type": "stream",
          "text": [
            "Please enter number : 45\n",
            "Your number is odd\n"
          ],
          "name": "stdout"
        }
      ]
    },
    {
      "cell_type": "code",
      "metadata": {
        "colab": {
          "base_uri": "https://localhost:8080/"
        },
        "id": "x5vL4EPH5Fjk",
        "outputId": "0735a722-bb93-44e1-a688-0a5e59b53ae1"
      },
      "source": [
        "bread = True\n",
        "grocery_store = True\n",
        "minced_meat = True\n",
        "green = True\n",
        "lettuce = True\n",
        "pepper = False\n",
        "Hamburger = minced_meat and bread and grocery_store and green or lettuce and pepper\n",
        "if Hamburger:\n",
        "  print(\"Bon appetite\")\n"
      ],
      "execution_count": 43,
      "outputs": [
        {
          "output_type": "stream",
          "text": [
            "Bon appetite\n"
          ],
          "name": "stdout"
        }
      ]
    },
    {
      "cell_type": "code",
      "metadata": {
        "colab": {
          "base_uri": "https://localhost:8080/"
        },
        "id": "Lj5a0ZHG-ecZ",
        "outputId": "39ccd071-ab10-4f04-a304-c1fd8217cd48"
      },
      "source": [
        "answer = input(\"Please write Yes or No  \").title().strip()\n",
        "a =  {\"Yes\":True, \"No\":False }\n",
        "print(\"You write {} \".format(a[answer]))"
      ],
      "execution_count": 39,
      "outputs": [
        {
          "output_type": "stream",
          "text": [
            "Please write Yes or No  Yes\n",
            "You write True \n"
          ],
          "name": "stdout"
        }
      ]
    },
    {
      "cell_type": "code",
      "metadata": {
        "colab": {
          "base_uri": "https://localhost:8080/"
        },
        "id": "dG1FpgxZBN7o",
        "outputId": "de8dbaca-1bcb-40a1-fd81-84c931d4d0d1"
      },
      "source": [
        "print(\"You entered :\", input(\"Enter YEs or No : \").title().strip() == \"Yes\" )"
      ],
      "execution_count": 40,
      "outputs": [
        {
          "output_type": "stream",
          "text": [
            "Enter YEs or No : yes\n",
            "You entered : True\n"
          ],
          "name": "stdout"
        }
      ]
    },
    {
      "cell_type": "code",
      "metadata": {
        "colab": {
          "base_uri": "https://localhost:8080/"
        },
        "id": "7zC7B5eM9cNa",
        "outputId": "42e6e03e-a697-4cbe-c561-ec7a114acde1"
      },
      "source": [
        "sete_1 =set(\"TWELVE PLUS ONE\")\n",
        "sete_2 =set(\"ELEVEN PLUS TWO\")\n",
        "(sete_1 == sete_2)"
      ],
      "execution_count": 29,
      "outputs": [
        {
          "output_type": "execute_result",
          "data": {
            "text/plain": [
              "True"
            ]
          },
          "metadata": {
            "tags": []
          },
          "execution_count": 29
        }
      ]
    },
    {
      "cell_type": "code",
      "metadata": {
        "id": "gqGH-xjba6nG"
      },
      "source": [
        "a = set(\"phidadelphia\")\n",
        "b = set(\"dolphin\")\n",
        "print(a)        \n",
        "print(b)\n",
        "print(bool(a==b))\n",
        "print(a-b)\n",
        "print(a.difference(b))\n",
        "print(b-a)\n",
        "print(b.difference(a))\n",
        "print(a|b)\n",
        "print(a.union(b))\n",
        "print(b|a)\n",
        "print(b.union(a))\n",
        "print(a&b)\n",
        "print(a.intersection(b))"
      ],
      "execution_count": null,
      "outputs": []
    },
    {
      "cell_type": "code",
      "metadata": {
        "id": "W3PVPP6fdlpR"
      },
      "source": [
        "t = \"04/14/2021\"\n",
        "print(set(t))\n",
        "print(tuple(t))\n",
        "print(list(t))"
      ],
      "execution_count": null,
      "outputs": []
    },
    {
      "cell_type": "code",
      "metadata": {
        "id": "TVK8i7Lxe5r7"
      },
      "source": [
        "given_list = [1, 2, 3, 3, 3, 3, 4, 4, 5, 5]\n",
        "print(set(given_list))"
      ],
      "execution_count": null,
      "outputs": []
    },
    {
      "cell_type": "code",
      "metadata": {
        "colab": {
          "base_uri": "https://localhost:8080/"
        },
        "id": "czFH5o6ifUqA",
        "outputId": "6c10e914-6ffe-4f9a-b931-b304e7a859a3"
      },
      "source": [
        "usa_cap = set(\"washington\")\n",
        "newzel_cap = set(\"wellington\")\n",
        "print(usa_cap.intersection(newzel_cap))\n",
        "print(usa_cap.union(newzel_cap))\n",
        "print(usa_cap.difference(newzel_cap))\n"
      ],
      "execution_count": 21,
      "outputs": [
        {
          "output_type": "stream",
          "text": [
            "{'n', 't', 'g', 'w', 'o', 'i'}\n",
            "{'n', 't', 'g', 'w', 'a', 'h', 'o', 'l', 'e', 'i', 's'}\n",
            "{'a', 'h', 's'}\n"
          ],
          "name": "stdout"
        }
      ]
    }
  ]
}