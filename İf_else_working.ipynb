{
  "nbformat": 4,
  "nbformat_minor": 0,
  "metadata": {
    "colab": {
      "name": "İf_else_working.ipynb",
      "provenance": [],
      "collapsed_sections": [],
      "authorship_tag": "ABX9TyO4+8abA49kHPYBqlC08vBf",
      "include_colab_link": true
    },
    "kernelspec": {
      "name": "python3",
      "display_name": "Python 3"
    },
    "language_info": {
      "name": "python"
    }
  },
  "cells": [
    {
      "cell_type": "markdown",
      "metadata": {
        "id": "view-in-github",
        "colab_type": "text"
      },
      "source": [
        "<a href=\"https://colab.research.google.com/github/gerogeykp/deneme/blob/main/%C4%B0f_else_working.ipynb\" target=\"_parent\"><img src=\"https://colab.research.google.com/assets/colab-badge.svg\" alt=\"Open In Colab\"/></a>"
      ]
    },
    {
      "cell_type": "code",
      "metadata": {
        "colab": {
          "base_uri": "https://localhost:8080/"
        },
        "id": "J4WhqgREQT7I",
        "outputId": "f2590682-0b05-44b1-ed7a-67fc1bb03890"
      },
      "source": [
        "say_1 = int(input(\"Please enter first number : \"))\n",
        "say_2 = int(input(\"Please enter second number : \"))\n",
        "say_3 = int(input(\"Please enter second number : \"))\n",
        "\n",
        "if say_1 > say_2 and say_1 > say_3 :\n",
        "    larger = say_1\n",
        "elif say_2 > say_1 and say_2 > say_3:\n",
        "    larger = say_2\n",
        "else :\n",
        "    larger = say_3\n",
        "   \n",
        "print(\"The larger number is \",larger)   "
      ],
      "execution_count": 9,
      "outputs": [
        {
          "output_type": "stream",
          "text": [
            "Please enter first number : 454\n",
            "Please enter second number : 454\n",
            "Please enter second number : 213\n",
            "The larger number is  213\n"
          ],
          "name": "stdout"
        }
      ]
    },
    {
      "cell_type": "code",
      "metadata": {
        "colab": {
          "base_uri": "https://localhost:8080/"
        },
        "id": "pSGbMXoBK4Qw",
        "outputId": "db9cbfa8-5521-4489-ad94-4176de72cc89"
      },
      "source": [
        " a = True\n",
        "if a :\n",
        "  print(\"Yees\")\n",
        "else:\n",
        "  print(\"Noo\")  \n"
      ],
      "execution_count": 7,
      "outputs": [
        {
          "output_type": "stream",
          "text": [
            "Yees\n"
          ],
          "name": "stdout"
        }
      ]
    },
    {
      "cell_type": "code",
      "metadata": {
        "id": "sROBdO7UKgiC"
      },
      "source": [
        ""
      ],
      "execution_count": null,
      "outputs": []
    },
    {
      "cell_type": "code",
      "metadata": {
        "colab": {
          "base_uri": "https://localhost:8080/"
        },
        "id": "5uqzjDBlH9OO",
        "outputId": "05c33b20-7af8-4af2-ad33-f4bb8b9f389e"
      },
      "source": [
        "say_1 = int(input(\"Please enter first number : \"))\n",
        "say_2 = int(input(\"Please enter second number : \"))\n",
        "\n",
        "if say_1> say_2 :\n",
        "    larger = say_1\n",
        "    print(\"Your large number is  {}\". format(say_1))\n",
        "else :\n",
        "    larger = say_2\n",
        "    print(\"Your large number is  {} \" . format(say_2))  \n",
        "print(\"The larger number is 5\",larger)    "
      ],
      "execution_count": 6,
      "outputs": [
        {
          "output_type": "stream",
          "text": [
            "Please enter first number : 45\n",
            "Please enter second number : 8\n",
            "Your large number is  45\n",
            "The larger number is  45\n"
          ],
          "name": "stdout"
        }
      ]
    },
    {
      "cell_type": "code",
      "metadata": {
        "colab": {
          "base_uri": "https://localhost:8080/"
        },
        "id": "VKaTwNGQHGLk",
        "outputId": "9dbc598e-2d0b-4074-9516-015a2ba47a72"
      },
      "source": [
        "sayı = int(input(\"Please enter number : \"))\n",
        "if sayı > 0 :\n",
        "    print(\"Your number is Positive\")\n",
        "else :\n",
        "    print(\"Your number is Negative\")   "
      ],
      "execution_count": 1,
      "outputs": [
        {
          "output_type": "stream",
          "text": [
            "Please enter number : -15\n",
            "Your number is Negative\n"
          ],
          "name": "stdout"
        }
      ]
    },
    {
      "cell_type": "code",
      "metadata": {
        "colab": {
          "base_uri": "https://localhost:8080/"
        },
        "id": "umKPcxUMFTV9",
        "outputId": "c4235857-61d7-44ee-8503-d25ffec1c434"
      },
      "source": [
        "sayı = int(input(\"Please enter number : \"))\n",
        "if sayı%2==0 :\n",
        "    print(\"Your number is even\")\n",
        "else :\n",
        "    print(\"Your number is odd\")    "
      ],
      "execution_count": null,
      "outputs": [
        {
          "output_type": "stream",
          "text": [
            "Please enter number : 45\n",
            "Your number is odd\n"
          ],
          "name": "stdout"
        }
      ]
    },
    {
      "cell_type": "code",
      "metadata": {
        "id": "x5vL4EPH5Fjk"
      },
      "source": [
        "bread = True\n",
        "grocery_store = True\n",
        "minced_meat = True\n",
        "green = True\n",
        "lettuce = True\n",
        "pepper = False\n",
        "Hamburger = minced_meat and bread and grocery_store and green or lettuce and pepper\n",
        "if Hamburger:\n",
        "  print(\"Bon appetite\")\n"
      ],
      "execution_count": null,
      "outputs": []
    },
    {
      "cell_type": "code",
      "metadata": {
        "id": "Lj5a0ZHG-ecZ"
      },
      "source": [
        "answer = input(\"Please write Yes or No  \").title().strip()\n",
        "a =  {\"Yes\":True, \"No\":False }\n",
        "print(\"You write {} \".format(a[answer]))"
      ],
      "execution_count": null,
      "outputs": []
    },
    {
      "cell_type": "code",
      "metadata": {
        "id": "dG1FpgxZBN7o"
      },
      "source": [
        "print(\"You entered :\", input(\"Enter YEs or No : \").title().strip() == \"Yes\" )"
      ],
      "execution_count": null,
      "outputs": []
    },
    {
      "cell_type": "code",
      "metadata": {
        "id": "7zC7B5eM9cNa"
      },
      "source": [
        "sete_1 =set(\"TWELVE PLUS ONE\")\n",
        "sete_2 =set(\"ELEVEN PLUS TWO\")\n",
        "(sete_1 == sete_2)"
      ],
      "execution_count": null,
      "outputs": []
    },
    {
      "cell_type": "code",
      "metadata": {
        "id": "gqGH-xjba6nG"
      },
      "source": [
        "a = set(\"phidadelphia\")\n",
        "b = set(\"dolphin\")\n",
        "print(a)        \n",
        "print(b)\n",
        "print(bool(a==b))\n",
        "print(a-b)\n",
        "print(a.difference(b))\n",
        "print(b-a)\n",
        "print(b.difference(a))\n",
        "print(a|b)\n",
        "print(a.union(b))\n",
        "print(b|a)\n",
        "print(b.union(a))\n",
        "print(a&b)\n",
        "print(a.intersection(b))"
      ],
      "execution_count": null,
      "outputs": []
    },
    {
      "cell_type": "code",
      "metadata": {
        "id": "W3PVPP6fdlpR"
      },
      "source": [
        "t = \"04/14/2021\"\n",
        "print(set(t))\n",
        "print(tuple(t))\n",
        "print(list(t))"
      ],
      "execution_count": null,
      "outputs": []
    },
    {
      "cell_type": "code",
      "metadata": {
        "id": "TVK8i7Lxe5r7"
      },
      "source": [
        "given_list = [1, 2, 3, 3, 3, 3, 4, 4, 5, 5]\n",
        "print(set(given_list))"
      ],
      "execution_count": null,
      "outputs": []
    },
    {
      "cell_type": "code",
      "metadata": {
        "colab": {
          "base_uri": "https://localhost:8080/"
        },
        "id": "czFH5o6ifUqA",
        "outputId": "6c10e914-6ffe-4f9a-b931-b304e7a859a3"
      },
      "source": [
        "usa_cap = set(\"washington\")\n",
        "newzel_cap = set(\"wellington\")\n",
        "print(usa_cap.intersection(newzel_cap))\n",
        "print(usa_cap.union(newzel_cap))\n",
        "print(usa_cap.difference(newzel_cap))\n"
      ],
      "execution_count": null,
      "outputs": [
        {
          "output_type": "stream",
          "text": [
            "{'n', 't', 'g', 'w', 'o', 'i'}\n",
            "{'n', 't', 'g', 'w', 'a', 'h', 'o', 'l', 'e', 'i', 's'}\n",
            "{'a', 'h', 's'}\n"
          ],
          "name": "stdout"
        }
      ]
    }
  ]
}