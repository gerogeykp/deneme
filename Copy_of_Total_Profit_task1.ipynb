{
  "nbformat": 4,
  "nbformat_minor": 0,
  "metadata": {
    "colab": {
      "name": "Copy of Total Profit_task1.ipynb",
      "provenance": [],
      "authorship_tag": "ABX9TyNXrqfLAlRODryo0ntVHjLu",
      "include_colab_link": true
    },
    "kernelspec": {
      "name": "python3",
      "display_name": "Python 3"
    },
    "language_info": {
      "name": "python"
    }
  },
  "cells": [
    {
      "cell_type": "markdown",
      "metadata": {
        "id": "view-in-github",
        "colab_type": "text"
      },
      "source": [
        "<a href=\"https://colab.research.google.com/github/gerogeykp/deneme/blob/main/Copy_of_Total_Profit_task1.ipynb\" target=\"_parent\"><img src=\"https://colab.research.google.com/assets/colab-badge.svg\" alt=\"Open In Colab\"/></a>"
      ]
    },
    {
      "cell_type": "code",
      "metadata": {
        "colab": {
          "base_uri": "https://localhost:8080/"
        },
        "id": "349w2O0z6ia1",
        "outputId": "9371a178-3392-4065-f8ae-3efce94e234f"
      },
      "source": [
        "sales = {\n",
        "  \"cost_value\": 31.87,\n",
        "  \"sell_value\": 45.00,\n",
        "  \"inventory\": 1000\n",
        "        }  \n",
        "        \n",
        "\n",
        "profit = sales[\"sell_value\"] - sales[\"cost_value\"] # profit for one product\n",
        "total_profit = round(sales[\"inventory\"] * profit)\n",
        "print(\"The profit will be : {}\" .format(total_profit))\n",
        "\n"
      ],
      "execution_count": null,
      "outputs": [
        {
          "output_type": "stream",
          "text": [
            "The profit will be : 13130\n"
          ],
          "name": "stdout"
        }
      ]
    },
    {
      "cell_type": "code",
      "metadata": {
        "colab": {
          "base_uri": "https://localhost:8080/"
        },
        "id": "QBZ0wxS--Jmp",
        "outputId": "23e6bab0-4843-46c5-ecbe-e7310541136e"
      },
      "source": [
        "convert_num = float(input(\"Please enter number  we Will convert : \"))\n",
        "\n",
        "print(\"%.2f\" % convert_num)"
      ],
      "execution_count": null,
      "outputs": [
        {
          "output_type": "stream",
          "text": [
            "Please enter number  we Will convert : 25.8997\n",
            "25.90\n"
          ],
          "name": "stdout"
        }
      ]
    },
    {
      "cell_type": "code",
      "metadata": {
        "colab": {
          "base_uri": "https://localhost:8080/"
        },
        "id": "83Au0x7Qcygv",
        "outputId": "48d14b1b-81b2-4ffc-947e-edfded397519"
      },
      "source": [
        "word = input(\"Please write a word \\nI will check comforttabel or not? \")\n",
        "check = set(word)\n",
        "\n",
        "left_hand = {\"q\",\"w\",\"e\",\"r\",\"t\",\"a\",\"s\",\"d\",\"f\",\"g\",\"z\",\"x\",\"c\",\"v\",\"b\"}\n",
        "right_hand = {\"u\",\"ı\",\"o\",\"p\",\"ğ\",\"ü\",\"h\",\"j\",\"k\",\"l\",\"ş\",\"i\",\"n\",\"m\",\"ö\",\"ç\"}\n",
        "#contol_left =()\n",
        "control_left= (left_hand & check)\n",
        "left = True and len(control_left) \n",
        "print(\"left hand\", left)\n",
        "control_right= (right_hand & check)\n",
        "right = True and len(control_right) \n",
        "print(\"Right hand\", right)\n",
        "\n",
        "comfort = left and right\n",
        "print(\"your word is \" ,comfort)"
      ],
      "execution_count": 9,
      "outputs": [
        {
          "output_type": "stream",
          "text": [
            "Please write a word \n",
            "I will check comforttabel or not? asdf\n",
            "left hand 4\n",
            "Right hand 0\n",
            "your word is  0\n"
          ],
          "name": "stdout"
        }
      ]
    },
    {
      "cell_type": "code",
      "metadata": {
        "id": "w_RVr1IUd3bR"
      },
      "source": [
        ""
      ],
      "execution_count": null,
      "outputs": []
    }
  ]
}