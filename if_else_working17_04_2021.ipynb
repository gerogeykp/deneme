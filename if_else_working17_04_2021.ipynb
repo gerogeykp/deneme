{
  "nbformat": 4,
  "nbformat_minor": 0,
  "metadata": {
    "colab": {
      "name": "if_else_working17_04_2021.ipynb",
      "provenance": [],
      "authorship_tag": "ABX9TyPeo0ieOEJxcpJv5F3rDlBy",
      "include_colab_link": true
    },
    "kernelspec": {
      "name": "python3",
      "display_name": "Python 3"
    },
    "language_info": {
      "name": "python"
    }
  },
  "cells": [
    {
      "cell_type": "markdown",
      "metadata": {
        "id": "view-in-github",
        "colab_type": "text"
      },
      "source": [
        "<a href=\"https://colab.research.google.com/github/gerogeykp/deneme/blob/main/if_else_working17_04_2021.ipynb\" target=\"_parent\"><img src=\"https://colab.research.google.com/assets/colab-badge.svg\" alt=\"Open In Colab\"/></a>"
      ]
    },
    {
      "cell_type": "code",
      "metadata": {
        "colab": {
          "base_uri": "https://localhost:8080/"
        },
        "id": "-nxOp9JVca_H",
        "outputId": "51f140b7-6db6-4ac5-9f33-dddfc4bbb50e"
      },
      "source": [
        "word = input(\"Please write a word \\nI will check comforttabel or not? \").lower().strip()\n",
        "check = set(word)\n",
        "\n",
        "left_hand = {\"q\",\"w\",\"e\",\"r\",\"t\",\"a\",\"s\",\"d\",\"f\",\"g\",\"z\",\"x\",\"c\",\"v\",\"b\"}\n",
        "right_hand = {\"u\",\"ı\",\"o\",\"p\",\"ğ\",\"ü\",\"h\",\"j\",\"k\",\"l\",\"ş\",\"i\",\"n\",\"m\",\"ö\",\"ç\"}\n",
        "\n",
        "control_left= bool(left_hand & check)\n",
        "\n",
        "control_right= bool(right_hand & check)\n",
        "\n",
        "comfort = control_left and control_right\n",
        "\n",
        "if comfort != 0:\n",
        "    print(comfort, \"uses both hand fingers\" )\n",
        "elif control_left == False and control_right == True:\n",
        "    print(control_left,\"uses only righ-hand fingers\")\n",
        "elif control_left == True and control_right == False:\n",
        "    print(control_right,\"uses only left-hand fingers\")  "
      ],
      "execution_count": null,
      "outputs": [
        {
          "output_type": "stream",
          "text": [
            "Please write a word \n",
            "I will check comforttabel or not? asdfklş\n",
            "True uses both hand fingers\n"
          ],
          "name": "stdout"
        }
      ]
    },
    {
      "cell_type": "code",
      "metadata": {
        "colab": {
          "base_uri": "https://localhost:8080/"
        },
        "id": "JaXCUdFV60Gr",
        "outputId": "9f83c529-6340-40df-d9d8-fae5966f9411"
      },
      "source": [
        "audience_group = 'kid', 'teen', 'adult'\n",
        "audience = \"teen\"\n",
        "if audience in audience_group:\n",
        "    if audience == \"kid\":\n",
        "        print(\"it is free to go to cinema\")\n",
        "    elif audience == \"teen\":\n",
        "        print(\"discounted price!\")\n",
        "    else: # audience == \"adult\":\n",
        "        print(\"normal price\")\n",
        "else:\n",
        "    print(\"No such audience, stay at your home!\")"
      ],
      "execution_count": 1,
      "outputs": [
        {
          "output_type": "stream",
          "text": [
            "discounted price!\n"
          ],
          "name": "stdout"
        }
      ]
    },
    {
      "cell_type": "code",
      "metadata": {
        "id": "KgbONTqm8hYP"
      },
      "source": [
        "score = int(input(\"ENTER YOUR SCORE : \"))\n",
        "if score >= 90 :\n",
        "    if score >= 95 :\n",
        "      Your_score = \"A+\"\n",
        "    else :\n",
        "      Your_score = \"A\"\n",
        "if score >= 80 :\n",
        "    if score >= 85 :\n",
        "      Your_score = \"B+\"\n",
        "    else :\n",
        "      Your_score = \"B\"\n",
        "else :\n",
        "  Your_score = \"Below B\"\n",
        "print(\"Your degree is : \", Your_score)"
      ],
      "execution_count": null,
      "outputs": []
    },
    {
      "cell_type": "code",
      "metadata": {
        "colab": {
          "base_uri": "https://localhost:8080/"
        },
        "id": "EC_yjLi_Ikr8",
        "outputId": "74ac3f6d-b44b-4b6f-884d-e856a972ba96"
      },
      "source": [
        "age = input(\"Enter your age : \")\n",
        "while not age.isdigit() :\n",
        "    print(\"You entered incorrectly!\")\n",
        "    age = input(\"Enter your age correctly please : \")\n",
        "print(\"Great! You entered valid age :\", age)"
      ],
      "execution_count": 9,
      "outputs": [
        {
          "output_type": "stream",
          "text": [
            "Enter your age : 45\n",
            "Great! You entered valid age : 45\n"
          ],
          "name": "stdout"
        }
      ]
    },
    {
      "cell_type": "code",
      "metadata": {
        "colab": {
          "base_uri": "https://localhost:8080/"
        },
        "id": "qpXr-Y5NNxAt",
        "outputId": "df37e8a4-2eba-45e9-8519-ce13c63e00c6"
      },
      "source": [
        " num = 40\n",
        " \n",
        " question =\"Two Digit number\"\n",
        " while True:\n",
        "   guess =int(input(\"\"\"Guess the number\"\"\"))\n",
        "   print(question)\n",
        "   if guess !=num:\n",
        "      if guess > num:\n",
        "        print(\"Little Lower\")\n",
        "      elif guess < num:\n",
        "        print(\"Little higher\")\n",
        "   else: \n",
        "      print(\"Congrat you find\")\n",
        "      break\n",
        "\n",
        "    "
      ],
      "execution_count": 19,
      "outputs": [
        {
          "output_type": "stream",
          "text": [
            "Guess the number48\n",
            "Two Digit number\n",
            "Little Lower\n",
            "Guess the number40\n",
            "Two Digit number\n",
            "Congrat you find\n"
          ],
          "name": "stdout"
        }
      ]
    },
    {
      "cell_type": "code",
      "metadata": {
        "id": "uGuDFa2oXdm8"
      },
      "source": [
        ""
      ],
      "execution_count": null,
      "outputs": []
    },
    {
      "cell_type": "code",
      "metadata": {
        "colab": {
          "base_uri": "https://localhost:8080/"
        },
        "id": "YFgjpE08KNne",
        "outputId": "248acd0b-cc84-4d16-9762-db098ff2657a"
      },
      "source": [
        "numbers =[1,2,2,3,3,3,3,4,5,6,7,8,9,9]\n",
        "\n",
        "a = max(numbers, key = numbers.count)\n",
        "\n",
        "b = numbers.count(max(numbers, key = numbers.count)) \n",
        "print(\"Most frequnet {} and repeat {}\".format(a,b))"
      ],
      "execution_count": 26,
      "outputs": [
        {
          "output_type": "stream",
          "text": [
            "Most frequnet 3 and repeat 4\n"
          ],
          "name": "stdout"
        }
      ]
    },
    {
      "cell_type": "code",
      "metadata": {
        "id": "n5q1O8OpbQRx"
      },
      "source": [
        ""
      ],
      "execution_count": null,
      "outputs": []
    }
  ]
}